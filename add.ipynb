{
 "cells": [
  {
   "cell_type": "raw",
   "id": "5af191df-2fb4-4c1f-846c-a44b9c6f3ffb",
   "metadata": {},
   "source": [
    "Задача 1\n",
    "Есть список a = [1, 1, 2, 3, 5, 8, 13, 21, 34, 55, 89].\n",
    "Выведите все элементы, которые меньше 5."
   ]
  },
  {
   "cell_type": "code",
   "execution_count": 2,
   "id": "7bff4dfe-901a-4045-b238-3f61e197858b",
   "metadata": {},
   "outputs": [
    {
     "name": "stdout",
     "output_type": "stream",
     "text": [
      "1\n",
      "1\n",
      "2\n",
      "3\n"
     ]
    }
   ],
   "source": [
    "a = [1, 1, 2, 3, 5, 8, 13, 21, 34, 55, 89]\n",
    "for i in range (len(a)):\n",
    "    if a[i]<5:\n",
    "        print (a[i])"
   ]
  },
  {
   "cell_type": "raw",
   "id": "2c834514-bfb2-470e-b13a-4fa32f8dc4b1",
   "metadata": {},
   "source": [
    "Задача 2\n",
    "Даны списки:\n",
    "a = [1, 1, 2, 3, 5, 8, 13, 21, 34, 55, 89];\n",
    "b = [1, 2, 3, 4, 5, 6, 7, 8, 9, 10, 11, 12, 13].\n",
    "Нужно вернуть список, который состоит из элементов, общих для этих двух списков."
   ]
  },
  {
   "cell_type": "code",
   "execution_count": 4,
   "id": "7c32f202-261b-4d13-8dc0-04b50c9321e0",
   "metadata": {},
   "outputs": [
    {
     "name": "stdout",
     "output_type": "stream",
     "text": [
      "[1, 2, 3, 5, 8, 13]\n"
     ]
    }
   ],
   "source": [
    "a = [1, 1, 2, 3, 5, 8, 13, 21, 34, 55, 89]\n",
    "b = [1, 2, 3, 4, 5, 6, 7, 8, 9, 10, 11, 12, 13]\n",
    "\n",
    "result = list(set(a).intersection(set(b)))  # находим пересечение множеств\n",
    "print(result)"
   ]
  },
  {
   "cell_type": "raw",
   "id": "def9bf82-fd3b-46f5-9510-eee19def1b0c",
   "metadata": {},
   "source": [
    "Задача 3\n",
    "Отсортируйте словарь по значению в порядке возрастания и убывания.\n"
   ]
  },
  {
   "cell_type": "code",
   "execution_count": 6,
   "id": "1dbc4db7-3dbe-436c-a2f4-efe15cedf2d8",
   "metadata": {},
   "outputs": [
    {
     "name": "stdout",
     "output_type": "stream",
     "text": [
      "{'b': 1, 'c': 2, 'a': 3, 'd': 4}\n"
     ]
    }
   ],
   "source": [
    "my_dict = {'a': 3, 'b': 1, 'c': 2, 'd': 4}\n",
    "\n",
    "# Сортировка по значениям по возрастанию\n",
    "sorted_dict_asc = dict(sorted(my_dict.items(), key=lambda item: item[1]))\n",
    "\n",
    "print(sorted_dict_asc)"
   ]
  },
  {
   "cell_type": "code",
   "execution_count": 8,
   "id": "7d91a956-6741-44c3-807f-775dc5e527ab",
   "metadata": {},
   "outputs": [
    {
     "name": "stdout",
     "output_type": "stream",
     "text": [
      "{'d': 4, 'a': 3, 'c': 2, 'b': 1}\n"
     ]
    }
   ],
   "source": [
    "# Сортировка по значениям по убыванию\n",
    "sorted_dict_desc = dict(sorted(my_dict.items(), key=lambda item: item[1], reverse=True))\n",
    "\n",
    "print(sorted_dict_desc)"
   ]
  },
  {
   "cell_type": "raw",
   "id": "43412fed-c41f-4cde-8c57-70306c7801a2",
   "metadata": {},
   "source": [
    "Задача 4\n",
    "Напишите программу для слияния нескольких словарей в один."
   ]
  },
  {
   "cell_type": "code",
   "execution_count": 12,
   "id": "447b43f5-544c-4478-b2c6-74d467be3f65",
   "metadata": {},
   "outputs": [
    {
     "name": "stdout",
     "output_type": "stream",
     "text": [
      "{'a': 1, 'b': 2, 'c': 3, 'd': 4, 'e': 5}\n"
     ]
    }
   ],
   "source": [
    "dict1 = {'a': 1, 'b': 2}\n",
    "dict2 = {'c': 3, 'd': 4}\n",
    "dict3 = {'e': 5}\n",
    "\n",
    "# Объединяем словари\n",
    "merged_dict = {**dict1, **dict2, **dict3}\n",
    "\n",
    "print(merged_dict)\n"
   ]
  },
  {
   "cell_type": "raw",
   "id": "b199a466-7259-4cc0-b5f5-d320def901f5",
   "metadata": {},
   "source": [
    "Найдите три ключа с самыми высокими значениями в словаре my_dict = {'a':500, 'b':5874, 'c': 560,'d':400, 'e':5874, 'f': 20}\n",
    "\n"
   ]
  },
  {
   "cell_type": "code",
   "execution_count": 14,
   "id": "72bfdf14-1a2c-4332-ac50-86140405f556",
   "metadata": {},
   "outputs": [
    {
     "name": "stdout",
     "output_type": "stream",
     "text": [
      "['b', 'e', 'c']\n"
     ]
    }
   ],
   "source": [
    "my_dict = {'a': 500, 'b': 5874, 'c': 560, 'd': 400, 'e': 5874, 'f': 20}\n",
    "\n",
    "#sort\n",
    "sorted_dict = sorted(my_dict.items(), key=lambda item: item[1], reverse=True)\n",
    "a= [key for key, value in sorted_dict[:3]]\n",
    "\n",
    "print(a)"
   ]
  },
  {
   "cell_type": "raw",
   "id": "ecebda29-6d10-4b6c-8cdb-18c95d0e9948",
   "metadata": {},
   "source": [
    "Вы принимаете от пользователя последовательность чисел, разделённых запятой. Составьте список и кортеж(tuple) с этими числами\n"
   ]
  },
  {
   "cell_type": "code",
   "execution_count": 16,
   "id": "5af7e18b-b219-4578-8c2b-8bf1e7e3e777",
   "metadata": {},
   "outputs": [
    {
     "name": "stdin",
     "output_type": "stream",
     "text": [
      " 1,2,3,4,5,6\n"
     ]
    },
    {
     "name": "stdout",
     "output_type": "stream",
     "text": [
      "[1, 2, 3, 4, 5, 6]\n",
      "(1, 2, 3, 4, 5, 6)\n"
     ]
    }
   ],
   "source": [
    "a=input()\n",
    "arr=[]\n",
    "arr = [int(x) for x in a.split(',')]\n",
    "arr_tuple = tuple(arr)\n",
    "print(arr )\n",
    "print(arr_tuple)"
   ]
  },
  {
   "cell_type": "raw",
   "id": "e58421c1-a2e3-480d-9c12-71dfef3cddec",
   "metadata": {},
   "source": [
    "Задача 7\n",
    "Выведите первый и последний элемент списка(list)."
   ]
  },
  {
   "cell_type": "code",
   "execution_count": 18,
   "id": "33350e6b-f1e3-4c34-b883-b83d111df45c",
   "metadata": {},
   "outputs": [
    {
     "name": "stdout",
     "output_type": "stream",
     "text": [
      "1\n",
      "5\n"
     ]
    }
   ],
   "source": [
    "arr = [1, 2, 3, 4, 5]\n",
    "print(arr[0])\n",
    "print(arr[-1])"
   ]
  },
  {
   "cell_type": "code",
   "execution_count": null,
   "id": "e1ee7ed3-f0c8-4d49-9129-ee8aeeb8e3f1",
   "metadata": {},
   "outputs": [],
   "source": []
  }
 ],
 "metadata": {
  "kernelspec": {
   "display_name": "Python [conda env:base] *",
   "language": "python",
   "name": "conda-base-py"
  },
  "language_info": {
   "codemirror_mode": {
    "name": "ipython",
    "version": 3
   },
   "file_extension": ".py",
   "mimetype": "text/x-python",
   "name": "python",
   "nbconvert_exporter": "python",
   "pygments_lexer": "ipython3",
   "version": "3.12.7"
  }
 },
 "nbformat": 4,
 "nbformat_minor": 5
}
